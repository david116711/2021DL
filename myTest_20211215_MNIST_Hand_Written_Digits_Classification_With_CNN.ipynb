{
  "cells": [
    {
      "cell_type": "markdown",
      "metadata": {
        "id": "view-in-github",
        "colab_type": "text"
      },
      "source": [
        "<a href=\"https://colab.research.google.com/github/david116711/2021DL/blob/main/myTest_20211215_MNIST_Hand_Written_Digits_Classification_With_CNN.ipynb\" target=\"_parent\"><img src=\"https://colab.research.google.com/assets/colab-badge.svg\" alt=\"Open In Colab\"/></a>"
      ]
    },
    {
      "cell_type": "code",
      "source": [
        "# https://ai.plainenglish.io/vggnet-with-tensorflow-transfer-learning-with-vgg16-included-7e5f6fa9479a\n",
        "# https://medium.com/jia-hong/%E5%9F%BA%E6%96%BC-vgg16-%E4%B9%8B%E6%89%8B%E5%AF%AB%E6%95%B8%E5%AD%97%E8%BE%A8%E8%AD%98-9580ba85f224\n",
        "# https://www.kaggle.com/anandad/classify-fashion-mnist-with-vgg16"
      ],
      "metadata": {
        "id": "vzq6lelyiNBm"
      },
      "execution_count": null,
      "outputs": []
    },
    {
      "cell_type": "code",
      "source": [
        "from google.colab import drive\n",
        "drive.mount('/content/drive')"
      ],
      "metadata": {
        "colab": {
          "base_uri": "https://localhost:8080/"
        },
        "id": "vOWXeJO268aO",
        "outputId": "e9a7a0e0-6a1e-4a7a-96fc-cc0c36e57f18"
      },
      "execution_count": null,
      "outputs": [
        {
          "output_type": "stream",
          "name": "stdout",
          "text": [
            "Mounted at /content/drive\n"
          ]
        }
      ]
    },
    {
      "cell_type": "code",
      "source": [
        "%cd /content/drive/MyDrive/110_I/110_I_DeepLearning/HW3"
      ],
      "metadata": {
        "colab": {
          "base_uri": "https://localhost:8080/"
        },
        "id": "ZNMueiA57he_",
        "outputId": "4e51113c-f9d4-4ea0-b7bb-f12bd66acb75"
      },
      "execution_count": null,
      "outputs": [
        {
          "output_type": "stream",
          "name": "stdout",
          "text": [
            "/content/drive/MyDrive/110_I/110_I_DeepLearning/HW3\n"
          ]
        }
      ]
    },
    {
      "cell_type": "code",
      "source": [
        "!wget -N http://yann.lecun.com/exdb/mnist/train-images-idx3-ubyte.gz  #training set images (9912422 bytes)\n",
        "!wget -N http://yann.lecun.com/exdb/mnist/train-labels-idx1-ubyte.gz  #training set labels (28881 bytes)\n",
        "!wget -N http://yann.lecun.com/exdb/mnist/t10k-images-idx3-ubyte.gz   #test set images (1648877 bytes)\n",
        "!wget -N http://yann.lecun.com/exdb/mnist/t10k-labels-idx1-ubyte.gz   #test set labels (4542 bytes)"
      ],
      "metadata": {
        "colab": {
          "base_uri": "https://localhost:8080/"
        },
        "id": "OXkd6mFi5zQP",
        "outputId": "f95405db-16a6-413b-df00-da2644a45bce"
      },
      "execution_count": null,
      "outputs": [
        {
          "output_type": "stream",
          "name": "stdout",
          "text": [
            "--2021-12-14 18:01:59--  http://yann.lecun.com/exdb/mnist/train-images-idx3-ubyte.gz\n",
            "Resolving yann.lecun.com (yann.lecun.com)... 172.67.171.76, 104.21.29.36, 2606:4700:3036::ac43:ab4c, ...\n",
            "Connecting to yann.lecun.com (yann.lecun.com)|172.67.171.76|:80... connected.\n",
            "HTTP request sent, awaiting response... 304 Not Modified\n",
            "File ‘train-images-idx3-ubyte.gz’ not modified on server. Omitting download.\n",
            "\n",
            "--2021-12-14 18:01:59--  http://yann.lecun.com/exdb/mnist/train-labels-idx1-ubyte.gz\n",
            "Resolving yann.lecun.com (yann.lecun.com)... 172.67.171.76, 104.21.29.36, 2606:4700:3036::ac43:ab4c, ...\n",
            "Connecting to yann.lecun.com (yann.lecun.com)|172.67.171.76|:80... connected.\n",
            "HTTP request sent, awaiting response... 304 Not Modified\n",
            "File ‘train-labels-idx1-ubyte.gz’ not modified on server. Omitting download.\n",
            "\n",
            "--2021-12-14 18:01:59--  http://yann.lecun.com/exdb/mnist/t10k-images-idx3-ubyte.gz\n",
            "Resolving yann.lecun.com (yann.lecun.com)... 172.67.171.76, 104.21.29.36, 2606:4700:3036::ac43:ab4c, ...\n",
            "Connecting to yann.lecun.com (yann.lecun.com)|172.67.171.76|:80... connected.\n",
            "HTTP request sent, awaiting response... 304 Not Modified\n",
            "File ‘t10k-images-idx3-ubyte.gz’ not modified on server. Omitting download.\n",
            "\n",
            "--2021-12-14 18:02:00--  http://yann.lecun.com/exdb/mnist/t10k-labels-idx1-ubyte.gz\n",
            "Resolving yann.lecun.com (yann.lecun.com)... 172.67.171.76, 104.21.29.36, 2606:4700:3036::ac43:ab4c, ...\n",
            "Connecting to yann.lecun.com (yann.lecun.com)|172.67.171.76|:80... connected.\n",
            "HTTP request sent, awaiting response... 304 Not Modified\n",
            "File ‘t10k-labels-idx1-ubyte.gz’ not modified on server. Omitting download.\n",
            "\n"
          ]
        }
      ]
    },
    {
      "cell_type": "code",
      "source": [
        "import gzip\n",
        "import os\n",
        "import sys\n",
        "import struct\n",
        "import numpy as np\n",
        "\n",
        "def read_image(fi):\n",
        "    magic, n, rows, columns = struct.unpack(\">IIII\", fi.read(16))\n",
        "    assert magic == 0x00000803\n",
        "    assert rows == 28\n",
        "    assert columns == 28\n",
        "    rawbuffer = fi.read()\n",
        "    assert len(rawbuffer) == n * rows * columns\n",
        "    rawdata = np.frombuffer(rawbuffer, dtype='>u1', count=n*rows*columns)\n",
        "    return rawdata.reshape(n, rows, columns).astype(np.float32) / 255.0\n",
        "\n",
        "def read_label(fi):\n",
        "    magic, n = struct.unpack(\">II\", fi.read(8))\n",
        "    assert magic == 0x00000801\n",
        "    rawbuffer = fi.read()\n",
        "    assert len(rawbuffer) == n\n",
        "    return np.frombuffer(rawbuffer, dtype='>u1', count=n)"
      ],
      "metadata": {
        "id": "CrwyCWve9dLK"
      },
      "execution_count": null,
      "outputs": []
    },
    {
      "cell_type": "code",
      "source": [
        "X_train=read_image(gzip.open('/content/drive/MyDrive/110_I/110_I_DeepLearning/HW3/train-images-idx3-ubyte.gz', 'rb')),\n",
        "y_train=read_label(gzip.open('/content/drive/MyDrive/110_I/110_I_DeepLearning/HW3/train-labels-idx1-ubyte.gz', 'rb')),\n",
        "X_test=read_image(gzip.open('/content/drive/MyDrive/110_I/110_I_DeepLearning/HW3/t10k-images-idx3-ubyte.gz', 'rb')),\n",
        "y_test=read_label(gzip.open('/content/drive/MyDrive/110_I/110_I_DeepLearning/HW3/t10k-labels-idx1-ubyte.gz', 'rb'))"
      ],
      "metadata": {
        "id": "bDK_CjCh9fvP"
      },
      "execution_count": null,
      "outputs": []
    },
    {
      "cell_type": "code",
      "source": [
        "print(type(X_train), type(y_train))"
      ],
      "metadata": {
        "colab": {
          "base_uri": "https://localhost:8080/"
        },
        "id": "35EepOIO-3HB",
        "outputId": "526b0917-689a-4343-cfa9-519ada519ef7"
      },
      "execution_count": null,
      "outputs": [
        {
          "output_type": "stream",
          "name": "stdout",
          "text": [
            "<class 'tuple'> <class 'tuple'>\n"
          ]
        }
      ]
    },
    {
      "cell_type": "code",
      "source": [
        "len(X_train[0])"
      ],
      "metadata": {
        "colab": {
          "base_uri": "https://localhost:8080/"
        },
        "id": "eixmsTl7-7n-",
        "outputId": "79a06e5d-b482-4cb2-86c5-a2be67abccd9"
      },
      "execution_count": null,
      "outputs": [
        {
          "output_type": "execute_result",
          "data": {
            "text/plain": [
              "60000"
            ]
          },
          "metadata": {},
          "execution_count": 7
        }
      ]
    },
    {
      "cell_type": "code",
      "source": [
        "len(y_test)"
      ],
      "metadata": {
        "colab": {
          "base_uri": "https://localhost:8080/"
        },
        "id": "9e722pm7_E_6",
        "outputId": "948b21b4-3f56-4b10-8ff0-a842de80ffa3"
      },
      "execution_count": null,
      "outputs": [
        {
          "output_type": "execute_result",
          "data": {
            "text/plain": [
              "10000"
            ]
          },
          "metadata": {},
          "execution_count": 8
        }
      ]
    },
    {
      "cell_type": "code",
      "source": [
        "X_training = X_train[0]\n",
        "y_training = y_train[0]\n",
        "X_testing = X_test[0]\n",
        "y_testing = y_test"
      ],
      "metadata": {
        "id": "cDJFPYBQCh6K"
      },
      "execution_count": null,
      "outputs": []
    },
    {
      "cell_type": "markdown",
      "metadata": {
        "id": "2Uq6y2qky7-E"
      },
      "source": [
        "## 引用Keras"
      ]
    },
    {
      "cell_type": "code",
      "execution_count": null,
      "metadata": {
        "id": "Otwnc_oBy7-F"
      },
      "outputs": [],
      "source": [
        "import tensorflow as tf\n",
        "import tensorflow.keras\n",
        "from tensorflow.keras.datasets import mnist\n",
        "from tensorflow.keras.models import Sequential\n",
        "from tensorflow.keras.layers import Activation, Dense, Flatten, Conv2D, MaxPooling2D"
      ]
    },
    {
      "cell_type": "markdown",
      "metadata": {
        "id": "ARVcjVt5y7-G"
      },
      "source": [
        "## 读取MNIST数据"
      ]
    },
    {
      "cell_type": "code",
      "execution_count": null,
      "metadata": {
        "id": "EI_hEQxYy7-G"
      },
      "outputs": [],
      "source": [
        "#(x_train, y_train), (x_test, y_test) = mnist.load_data()"
      ]
    },
    {
      "cell_type": "code",
      "execution_count": null,
      "metadata": {
        "id": "XQhPhluJy7-G"
      },
      "outputs": [],
      "source": [
        "#X_train = X_train.reshape(60000, 28,28,1)\n",
        "#X_test = X_test.reshape(10000, 28,28,1)\n",
        "#X_train = X_train.astype('float32')\n",
        "#X_test  = X_test.astype('float32')\n",
        "#X_train /= 255\n",
        "#X_test  /= 255"
      ]
    },
    {
      "cell_type": "code",
      "source": [
        "n_classes = 10"
      ],
      "metadata": {
        "id": "csV8IpwX0RPh"
      },
      "execution_count": null,
      "outputs": []
    },
    {
      "cell_type": "code",
      "execution_count": null,
      "metadata": {
        "id": "Hr71Wim5y7-G"
      },
      "outputs": [],
      "source": [
        "#y_train = tensorflow.keras.utils.to_categorical(y_train, n_classes)\n",
        "#y_test  = tensorflow.keras.utils.to_categorical(y_test, n_classes)\n",
        "\n",
        "y_training = tensorflow.keras.utils.to_categorical(y_training, n_classes)\n",
        "y_testing  = tensorflow.keras.utils.to_categorical(y_testing, n_classes)"
      ]
    },
    {
      "cell_type": "code",
      "source": [
        "y_testing.shape"
      ],
      "metadata": {
        "colab": {
          "base_uri": "https://localhost:8080/"
        },
        "id": "HUBalA9PFbqI",
        "outputId": "db3ebd1f-720a-45b5-bec5-b6a03332a87d"
      },
      "execution_count": null,
      "outputs": [
        {
          "output_type": "execute_result",
          "data": {
            "text/plain": [
              "(10000, 10)"
            ]
          },
          "metadata": {},
          "execution_count": 14
        }
      ]
    },
    {
      "cell_type": "code",
      "source": [
        "y_training[1]"
      ],
      "metadata": {
        "colab": {
          "base_uri": "https://localhost:8080/"
        },
        "id": "CLelSI1vFq91",
        "outputId": "6e7f79c3-7332-4df1-fa06-49b3ebe3c68a"
      },
      "execution_count": null,
      "outputs": [
        {
          "output_type": "execute_result",
          "data": {
            "text/plain": [
              "array([1., 0., 0., 0., 0., 0., 0., 0., 0., 0.], dtype=float32)"
            ]
          },
          "metadata": {},
          "execution_count": 15
        }
      ]
    },
    {
      "cell_type": "code",
      "source": [
        "y_training.shape"
      ],
      "metadata": {
        "colab": {
          "base_uri": "https://localhost:8080/"
        },
        "id": "XTKS8wzSUTpw",
        "outputId": "4c8b092a-0977-4771-ef87-ac2e87d2e0c5"
      },
      "execution_count": null,
      "outputs": [
        {
          "output_type": "execute_result",
          "data": {
            "text/plain": [
              "(60000, 10)"
            ]
          },
          "metadata": {},
          "execution_count": 16
        }
      ]
    },
    {
      "cell_type": "markdown",
      "metadata": {
        "id": "0a5HUvScy7-G"
      },
      "source": [
        "## 设定网路参数"
      ]
    },
    {
      "cell_type": "code",
      "execution_count": null,
      "metadata": {
        "id": "sFlzPxYqy7-G"
      },
      "outputs": [],
      "source": [
        "n_hidden_1 = 256 \n",
        "n_classes  = 10 \n",
        "\n",
        "training_epochs = 15\n",
        "batch_size = 100"
      ]
    },
    {
      "cell_type": "markdown",
      "metadata": {
        "id": "6viM2K_My7-H"
      },
      "source": [
        "## 建立卷积神经网路"
      ]
    },
    {
      "cell_type": "code",
      "execution_count": null,
      "metadata": {
        "id": "VlzQWq5dy7-H"
      },
      "outputs": [],
      "source": [
        "model = tensorflow.keras.Sequential()\n",
        "model.add(Conv2D(\n",
        "            filters=16,\n",
        "            kernel_size = (3,3),\n",
        "            padding = 'same',\n",
        "            input_shape = (28,28,1), \n",
        "            activation = 'relu'))\n",
        "model.add(MaxPooling2D(pool_size=(2,2)))\n",
        "model.add(Flatten())\n",
        "model.add(Dense(n_hidden_1, activation='relu'))\n",
        "model.add(Dense(n_classes, activation='softmax'))"
      ]
    },
    {
      "cell_type": "code",
      "execution_count": null,
      "metadata": {
        "id": "ufDrmzUpy7-H"
      },
      "outputs": [],
      "source": [
        "model.compile(loss='categorical_crossentropy',\n",
        "              optimizer='adam',\n",
        "              metrics=['accuracy'])"
      ]
    },
    {
      "cell_type": "markdown",
      "metadata": {
        "id": "rxRpXhk6y7-H"
      },
      "source": [
        "## 训练神经网路"
      ]
    },
    {
      "cell_type": "code",
      "source": [
        "print(X_training.shape, X_testing.shape)"
      ],
      "metadata": {
        "colab": {
          "base_uri": "https://localhost:8080/"
        },
        "id": "UN85xN43D72A",
        "outputId": "b3c318d2-1dd9-4ae7-8c13-be535a8d071d"
      },
      "execution_count": null,
      "outputs": [
        {
          "output_type": "stream",
          "name": "stdout",
          "text": [
            "(60000, 28, 28) (10000, 28, 28)\n"
          ]
        }
      ]
    },
    {
      "cell_type": "code",
      "source": [
        "X_training = X_training.reshape(60000, 28,28,1)\n",
        "X_testing = X_testing.reshape(10000, 28,28,1)"
      ],
      "metadata": {
        "id": "LMha3JV5EPJH"
      },
      "execution_count": null,
      "outputs": []
    },
    {
      "cell_type": "code",
      "source": [
        "print(X_testing.shape, y_testing.shape)"
      ],
      "metadata": {
        "colab": {
          "base_uri": "https://localhost:8080/"
        },
        "id": "SzkBRCAgETp7",
        "outputId": "9de24dc2-5511-47eb-ed01-3ac9cc476f4f"
      },
      "execution_count": null,
      "outputs": [
        {
          "output_type": "stream",
          "name": "stdout",
          "text": [
            "(10000, 28, 28, 1) (10000, 10)\n"
          ]
        }
      ]
    },
    {
      "cell_type": "code",
      "execution_count": null,
      "metadata": {
        "id": "4vaZjLDty7-H",
        "outputId": "a62204ad-8cc1-4e6b-a345-60fa3ac7378e",
        "colab": {
          "base_uri": "https://localhost:8080/"
        }
      },
      "outputs": [
        {
          "output_type": "stream",
          "name": "stdout",
          "text": [
            "Epoch 1/15\n",
            "600/600 [==============================] - 29s 47ms/step - loss: 0.2112 - accuracy: 0.9388 - val_loss: 0.0839 - val_accuracy: 0.9747\n",
            "Epoch 2/15\n",
            "600/600 [==============================] - 28s 47ms/step - loss: 0.0658 - accuracy: 0.9803 - val_loss: 0.0538 - val_accuracy: 0.9830\n",
            "Epoch 3/15\n",
            "600/600 [==============================] - 28s 46ms/step - loss: 0.0436 - accuracy: 0.9867 - val_loss: 0.0464 - val_accuracy: 0.9834\n",
            "Epoch 4/15\n",
            "600/600 [==============================] - 28s 47ms/step - loss: 0.0294 - accuracy: 0.9909 - val_loss: 0.0458 - val_accuracy: 0.9838\n",
            "Epoch 5/15\n",
            "600/600 [==============================] - 28s 46ms/step - loss: 0.0219 - accuracy: 0.9929 - val_loss: 0.0409 - val_accuracy: 0.9865\n",
            "Epoch 6/15\n",
            "600/600 [==============================] - 28s 46ms/step - loss: 0.0165 - accuracy: 0.9948 - val_loss: 0.0440 - val_accuracy: 0.9858\n",
            "Epoch 7/15\n",
            "600/600 [==============================] - 28s 46ms/step - loss: 0.0107 - accuracy: 0.9972 - val_loss: 0.0421 - val_accuracy: 0.9857\n",
            "Epoch 8/15\n",
            "600/600 [==============================] - 28s 46ms/step - loss: 0.0084 - accuracy: 0.9974 - val_loss: 0.0442 - val_accuracy: 0.9861\n",
            "Epoch 9/15\n",
            "600/600 [==============================] - 28s 46ms/step - loss: 0.0068 - accuracy: 0.9978 - val_loss: 0.0436 - val_accuracy: 0.9871\n",
            "Epoch 10/15\n",
            "600/600 [==============================] - 28s 46ms/step - loss: 0.0061 - accuracy: 0.9980 - val_loss: 0.0463 - val_accuracy: 0.9865\n",
            "Epoch 11/15\n",
            "600/600 [==============================] - 28s 46ms/step - loss: 0.0049 - accuracy: 0.9986 - val_loss: 0.0565 - val_accuracy: 0.9859\n",
            "Epoch 12/15\n",
            "600/600 [==============================] - 28s 46ms/step - loss: 0.0037 - accuracy: 0.9989 - val_loss: 0.0482 - val_accuracy: 0.9879\n",
            "Epoch 13/15\n",
            "600/600 [==============================] - 28s 47ms/step - loss: 0.0030 - accuracy: 0.9992 - val_loss: 0.0572 - val_accuracy: 0.9848\n",
            "Epoch 14/15\n",
            "600/600 [==============================] - 28s 47ms/step - loss: 0.0045 - accuracy: 0.9986 - val_loss: 0.0472 - val_accuracy: 0.9877\n",
            "Epoch 15/15\n",
            "600/600 [==============================] - 28s 47ms/step - loss: 0.0023 - accuracy: 0.9994 - val_loss: 0.0542 - val_accuracy: 0.9874\n"
          ]
        }
      ],
      "source": [
        "history = model.fit(X_training, y_training,\n",
        "                    batch_size=batch_size,\n",
        "                    epochs=training_epochs,\n",
        "                    verbose=1,\n",
        "                    validation_data=(X_testing, y_testing))"
      ]
    },
    {
      "cell_type": "code",
      "source": [
        "import random \n",
        "import numpy as np \n",
        "\n",
        "noise = [0.1, 0.2, 0.3]\n",
        "for k in noise:\n",
        "  print(k)\n",
        "  myNoiseXTesting = X_testing.copy()\n",
        "  noise_lv = k            #0.1, 0.2, 0.3    \n",
        "  img_size = 28*28 \n",
        "  for i in range(len(myNoiseXTesting)): \n",
        "    ran_seq = random.sample([n for n in range(img_size)], np.int(img_size*noise_lv)) \n",
        "    x = myNoiseXTesting[i].reshape(-1, img_size) \n",
        "    x[0, ran_seq]=255\n",
        "\n",
        "  loss, accuracy = model.evaluate(myNoiseXTesting, y_testing)\n",
        "  print('noise: ', k, ' accuracy: ', accuracy)"
      ],
      "metadata": {
        "colab": {
          "base_uri": "https://localhost:8080/"
        },
        "id": "9KSf0X-_NWoK",
        "outputId": "2d1ae500-ef0e-4eb5-b7be-c374c814443c"
      },
      "execution_count": null,
      "outputs": [
        {
          "output_type": "stream",
          "name": "stdout",
          "text": [
            "0.1\n",
            "313/313 [==============================] - 3s 9ms/step - loss: 6643.3154 - accuracy: 0.1074\n",
            "noise:  0.1  accuracy:  0.10740000009536743\n",
            "0.2\n",
            "313/313 [==============================] - 3s 9ms/step - loss: 8110.4614 - accuracy: 0.1026\n",
            "noise:  0.2  accuracy:  0.10260000079870224\n",
            "0.3\n",
            "313/313 [==============================] - 3s 9ms/step - loss: 8688.3652 - accuracy: 0.1010\n",
            "noise:  0.3  accuracy:  0.10100000351667404\n"
          ]
        }
      ]
    },
    {
      "cell_type": "code",
      "source": [
        "# https://www.tensorflow.org/api_docs/python/tf/keras/applications/vgg16/VGG16\n",
        "tf.keras.applications.vgg16.VGG16(\n",
        "    include_top=True, weights='imagenet', input_tensor=None,\n",
        "    input_shape=None, pooling=None, classes=1000,\n",
        "    classifier_activation='softmax'\n",
        ")"
      ],
      "metadata": {
        "colab": {
          "base_uri": "https://localhost:8080/"
        },
        "id": "jm3spcHWXvtO",
        "outputId": "7582c775-504f-43e8-da6e-56189a9768cb"
      },
      "execution_count": null,
      "outputs": [
        {
          "output_type": "stream",
          "name": "stdout",
          "text": [
            "Downloading data from https://storage.googleapis.com/tensorflow/keras-applications/vgg16/vgg16_weights_tf_dim_ordering_tf_kernels.h5\n",
            "553467904/553467096 [==============================] - 5s 0us/step\n",
            "553476096/553467096 [==============================] - 5s 0us/step\n"
          ]
        },
        {
          "output_type": "execute_result",
          "data": {
            "text/plain": [
              "<keras.engine.functional.Functional at 0x7f2051187f10>"
            ]
          },
          "metadata": {},
          "execution_count": 28
        }
      ]
    },
    {
      "cell_type": "code",
      "source": [
        "from tensorflow.keras.applications.vgg16 import VGG16\n",
        "from tensorflow.keras.preprocessing import image\n",
        "from tensorflow.keras.applications.vgg16 import preprocess_input\n",
        "import numpy as np\n",
        "\n",
        "# 預先訓練好的模型 -- VGG16, 不含後三層(辨識層)\n",
        "model = VGG16(weights='imagenet', include_top=False)\n",
        "\n",
        "# 任意一張圖片，例如大象\n",
        "# img_path = './images/elephant.jpg'\n",
        "# 載入圖檔，並縮放寬高為 (224, 224) \n",
        "# img = image.load_img(img_path, target_size=(224, 224))\n",
        "# 加一維，變成 (1, 224, 224, 3)，最後一維是色彩\n",
        "# x = image.img_to_array(img)\n",
        "# x = np.expand_dims(x, axis=0)\n",
        "# 特徵縮放，每個特徵減掉該特徵的平均數\n",
        "# x = preprocess_input(x)\n",
        "\n",
        "# features = model.predict(x)\n",
        "# print(features)"
      ],
      "metadata": {
        "id": "x0AujQxnZXU_"
      },
      "execution_count": null,
      "outputs": []
    },
    {
      "cell_type": "code",
      "source": [
        "import numpy as np # linear algebra\n",
        "import pandas as pd # data processing, CSV file I/O (e.g. pd.read_csv)\n",
        "import os, time\n",
        "import matplotlib.pyplot as plt\n",
        "#from keras.datasets import fashion_mnist\n",
        "from sklearn.model_selection import train_test_split\n",
        "import keras\n",
        "from tensorflow.keras.utils import to_categorical\n",
        "from tensorflow.keras.models import Sequential\n",
        "from tensorflow.keras.layers import Conv2D, MaxPooling2D\n",
        "from tensorflow.keras.layers import Dense, Dropout, Flatten\n",
        "#from keras.layers.advanced_activations import LeakyReLU\n",
        "from tensorflow.keras.preprocessing.image import ImageDataGenerator\n",
        "from tensorflow.keras.applications import VGG16;\n",
        "from tensorflow.keras.applications.vgg16 import preprocess_input\n",
        "import os"
      ],
      "metadata": {
        "id": "3x-RPAD2Z1m4"
      },
      "execution_count": null,
      "outputs": []
    },
    {
      "cell_type": "code",
      "source": [
        "X_training = X_train[0]\n",
        "y_training = y_train[0]\n",
        "X_testing = X_test[0]\n",
        "y_testing = y_test"
      ],
      "metadata": {
        "id": "_ZHqlDwVacQj"
      },
      "execution_count": null,
      "outputs": []
    },
    {
      "cell_type": "code",
      "source": [
        "X_train = X_training.reshape(60000, 784)\n",
        "X_test = X_testing.reshape(10000, 784)"
      ],
      "metadata": {
        "id": "pFEdrY7Fai2c"
      },
      "execution_count": null,
      "outputs": []
    },
    {
      "cell_type": "code",
      "source": [
        "classes = np.unique(y_training)\n",
        "num_classes = len(classes)\n",
        "num_classes"
      ],
      "metadata": {
        "colab": {
          "base_uri": "https://localhost:8080/"
        },
        "id": "JuOfP05pa4w6",
        "outputId": "402e5012-034c-4cce-931c-cae2e1b3b470"
      },
      "execution_count": null,
      "outputs": [
        {
          "output_type": "execute_result",
          "data": {
            "text/plain": [
              "10"
            ]
          },
          "metadata": {},
          "execution_count": 15
        }
      ]
    },
    {
      "cell_type": "code",
      "source": [
        "# Convert the images into 3 channels\n",
        "X_train=np.dstack([X_train] * 3)\n",
        "X_test=np.dstack([X_test]*3)\n",
        "X_train.shape,X_test.shape"
      ],
      "metadata": {
        "colab": {
          "base_uri": "https://localhost:8080/"
        },
        "id": "756iTSTabSKR",
        "outputId": "2a97bc8f-c379-42ab-a513-02ef35262aaf"
      },
      "execution_count": null,
      "outputs": [
        {
          "output_type": "execute_result",
          "data": {
            "text/plain": [
              "((60000, 784, 3), (10000, 784, 3))"
            ]
          },
          "metadata": {},
          "execution_count": 16
        }
      ]
    },
    {
      "cell_type": "code",
      "source": [
        "# Reshape images as per the tensor format required by tensorflow\n",
        "X_train = X_train.reshape(-1,28,28,3)\n",
        "X_test= X_test.reshape (-1,28,28,3)\n",
        "X_train.shape,X_test.shape"
      ],
      "metadata": {
        "colab": {
          "base_uri": "https://localhost:8080/"
        },
        "id": "cRqP0g_Pbwim",
        "outputId": "d9c93866-172f-4b31-8956-f102afa89cb2"
      },
      "execution_count": null,
      "outputs": [
        {
          "output_type": "execute_result",
          "data": {
            "text/plain": [
              "((60000, 28, 28, 3), (10000, 28, 28, 3))"
            ]
          },
          "metadata": {},
          "execution_count": 17
        }
      ]
    },
    {
      "cell_type": "code",
      "source": [
        "# Resize the images 48*48 as required by VGG16\n",
        "from keras.preprocessing.image import img_to_array, array_to_img\n",
        "X_train = np.asarray([img_to_array(array_to_img(im, scale=False).resize((48,48))) for im in X_train])\n",
        "X_test = np.asarray([img_to_array(array_to_img(im, scale=False).resize((48,48))) for im in X_test])\n",
        "#train_x = preprocess_input(x)\n",
        "X_train.shape, X_test.shape"
      ],
      "metadata": {
        "colab": {
          "base_uri": "https://localhost:8080/"
        },
        "id": "ekx4SGdAcCfP",
        "outputId": "3e47fb9b-ba05-408c-ab6f-85bd07bc351a"
      },
      "execution_count": null,
      "outputs": [
        {
          "output_type": "execute_result",
          "data": {
            "text/plain": [
              "((60000, 48, 48, 3), (10000, 48, 48, 3))"
            ]
          },
          "metadata": {},
          "execution_count": 18
        }
      ]
    },
    {
      "cell_type": "code",
      "source": [
        "y_training = tensorflow.keras.utils.to_categorical(y_training, n_classes)\n",
        "y_testing  = tensorflow.keras.utils.to_categorical(y_testing, n_classes)"
      ],
      "metadata": {
        "id": "sjR_mW6UdrK8"
      },
      "execution_count": null,
      "outputs": []
    },
    {
      "cell_type": "code",
      "source": [
        "# Splitting train data as train and validation data\n",
        "X_train,X_valid,train_label,valid_label = train_test_split(X_train,\n",
        "                              y_training,\n",
        "                              test_size=0.2,\n",
        "                              random_state=13\n",
        "                              )"
      ],
      "metadata": {
        "id": "DDbtvnnadP03"
      },
      "execution_count": null,
      "outputs": []
    },
    {
      "cell_type": "code",
      "source": [
        "# Define the parameters for instanitaing VGG16 model. \n",
        "IMG_WIDTH = 48\n",
        "IMG_HEIGHT = 48\n",
        "IMG_DEPTH = 3\n",
        "BATCH_SIZE = 16"
      ],
      "metadata": {
        "id": "yOdGoCAoc5b3"
      },
      "execution_count": null,
      "outputs": []
    },
    {
      "cell_type": "code",
      "source": [
        "# Preprocessing the input \n",
        "X_train = preprocess_input(X_train)\n",
        "#X_valid = preprocess_input(X_valid)\n",
        "X_test = preprocess_input(X_test)"
      ],
      "metadata": {
        "id": "0o5D-bNPdB1H"
      },
      "execution_count": null,
      "outputs": []
    },
    {
      "cell_type": "code",
      "source": [
        "from tensorflow.keras.applications.vgg16 import VGG16\n",
        "from tensorflow.keras.preprocessing import image\n",
        "from tensorflow.keras.applications.vgg16 import preprocess_input\n",
        "import numpy as np\n",
        "\n",
        "# 預先訓練好的模型 -- VGG16, 不含後三層(辨識層)\n",
        "model = VGG16(weights='imagenet', include_top=False)"
      ],
      "metadata": {
        "id": "EOeGm4IXem-h"
      },
      "execution_count": null,
      "outputs": []
    },
    {
      "cell_type": "code",
      "source": [
        "model.summary()"
      ],
      "metadata": {
        "colab": {
          "base_uri": "https://localhost:8080/"
        },
        "id": "7QHWstrJeszr",
        "outputId": "fcbcd6d4-d97c-4533-c3b0-53002ddf813e"
      },
      "execution_count": null,
      "outputs": [
        {
          "output_type": "stream",
          "name": "stdout",
          "text": [
            "Model: \"vgg16\"\n",
            "_________________________________________________________________\n",
            " Layer (type)                Output Shape              Param #   \n",
            "=================================================================\n",
            " input_3 (InputLayer)        [(None, None, None, 3)]   0         \n",
            "                                                                 \n",
            " block1_conv1 (Conv2D)       (None, None, None, 64)    1792      \n",
            "                                                                 \n",
            " block1_conv2 (Conv2D)       (None, None, None, 64)    36928     \n",
            "                                                                 \n",
            " block1_pool (MaxPooling2D)  (None, None, None, 64)    0         \n",
            "                                                                 \n",
            " block2_conv1 (Conv2D)       (None, None, None, 128)   73856     \n",
            "                                                                 \n",
            " block2_conv2 (Conv2D)       (None, None, None, 128)   147584    \n",
            "                                                                 \n",
            " block2_pool (MaxPooling2D)  (None, None, None, 128)   0         \n",
            "                                                                 \n",
            " block3_conv1 (Conv2D)       (None, None, None, 256)   295168    \n",
            "                                                                 \n",
            " block3_conv2 (Conv2D)       (None, None, None, 256)   590080    \n",
            "                                                                 \n",
            " block3_conv3 (Conv2D)       (None, None, None, 256)   590080    \n",
            "                                                                 \n",
            " block3_pool (MaxPooling2D)  (None, None, None, 256)   0         \n",
            "                                                                 \n",
            " block4_conv1 (Conv2D)       (None, None, None, 512)   1180160   \n",
            "                                                                 \n",
            " block4_conv2 (Conv2D)       (None, None, None, 512)   2359808   \n",
            "                                                                 \n",
            " block4_conv3 (Conv2D)       (None, None, None, 512)   2359808   \n",
            "                                                                 \n",
            " block4_pool (MaxPooling2D)  (None, None, None, 512)   0         \n",
            "                                                                 \n",
            " block5_conv1 (Conv2D)       (None, None, None, 512)   2359808   \n",
            "                                                                 \n",
            " block5_conv2 (Conv2D)       (None, None, None, 512)   2359808   \n",
            "                                                                 \n",
            " block5_conv3 (Conv2D)       (None, None, None, 512)   2359808   \n",
            "                                                                 \n",
            " block5_pool (MaxPooling2D)  (None, None, None, 512)   0         \n",
            "                                                                 \n",
            "=================================================================\n",
            "Total params: 14,714,688\n",
            "Trainable params: 14,714,688\n",
            "Non-trainable params: 0\n",
            "_________________________________________________________________\n"
          ]
        }
      ]
    },
    {
      "cell_type": "code",
      "source": [
        "#  Create base model of VGG16\n",
        "conv_base = VGG16(weights='imagenet',\n",
        "                  include_top=False, \n",
        "                  input_shape=(IMG_HEIGHT, IMG_WIDTH, IMG_DEPTH)\n",
        "                 )\n",
        "conv_base.summary()"
      ],
      "metadata": {
        "id": "OoccVM95eXkK",
        "colab": {
          "base_uri": "https://localhost:8080/"
        },
        "outputId": "de4e07ff-564d-4c7e-a949-abd549582283"
      },
      "execution_count": null,
      "outputs": [
        {
          "output_type": "stream",
          "name": "stdout",
          "text": [
            "Downloading data from https://storage.googleapis.com/tensorflow/keras-applications/vgg16/vgg16_weights_tf_dim_ordering_tf_kernels_notop.h5\n",
            "58892288/58889256 [==============================] - 0s 0us/step\n",
            "58900480/58889256 [==============================] - 0s 0us/step\n",
            "Model: \"vgg16\"\n",
            "_________________________________________________________________\n",
            " Layer (type)                Output Shape              Param #   \n",
            "=================================================================\n",
            " input_1 (InputLayer)        [(None, 48, 48, 3)]       0         \n",
            "                                                                 \n",
            " block1_conv1 (Conv2D)       (None, 48, 48, 64)        1792      \n",
            "                                                                 \n",
            " block1_conv2 (Conv2D)       (None, 48, 48, 64)        36928     \n",
            "                                                                 \n",
            " block1_pool (MaxPooling2D)  (None, 24, 24, 64)        0         \n",
            "                                                                 \n",
            " block2_conv1 (Conv2D)       (None, 24, 24, 128)       73856     \n",
            "                                                                 \n",
            " block2_conv2 (Conv2D)       (None, 24, 24, 128)       147584    \n",
            "                                                                 \n",
            " block2_pool (MaxPooling2D)  (None, 12, 12, 128)       0         \n",
            "                                                                 \n",
            " block3_conv1 (Conv2D)       (None, 12, 12, 256)       295168    \n",
            "                                                                 \n",
            " block3_conv2 (Conv2D)       (None, 12, 12, 256)       590080    \n",
            "                                                                 \n",
            " block3_conv3 (Conv2D)       (None, 12, 12, 256)       590080    \n",
            "                                                                 \n",
            " block3_pool (MaxPooling2D)  (None, 6, 6, 256)         0         \n",
            "                                                                 \n",
            " block4_conv1 (Conv2D)       (None, 6, 6, 512)         1180160   \n",
            "                                                                 \n",
            " block4_conv2 (Conv2D)       (None, 6, 6, 512)         2359808   \n",
            "                                                                 \n",
            " block4_conv3 (Conv2D)       (None, 6, 6, 512)         2359808   \n",
            "                                                                 \n",
            " block4_pool (MaxPooling2D)  (None, 3, 3, 512)         0         \n",
            "                                                                 \n",
            " block5_conv1 (Conv2D)       (None, 3, 3, 512)         2359808   \n",
            "                                                                 \n",
            " block5_conv2 (Conv2D)       (None, 3, 3, 512)         2359808   \n",
            "                                                                 \n",
            " block5_conv3 (Conv2D)       (None, 3, 3, 512)         2359808   \n",
            "                                                                 \n",
            " block5_pool (MaxPooling2D)  (None, 1, 1, 512)         0         \n",
            "                                                                 \n",
            "=================================================================\n",
            "Total params: 14,714,688\n",
            "Trainable params: 14,714,688\n",
            "Non-trainable params: 0\n",
            "_________________________________________________________________\n"
          ]
        }
      ]
    },
    {
      "cell_type": "code",
      "source": [
        "# Extracting features\n",
        "train_features = conv_base.predict(np.array(X_train), batch_size=BATCH_SIZE, verbose=1)\n",
        "#test_features = conv_base.predict(np.array(X_test), batch_size=BATCH_SIZE, verbose=1)\n",
        "val_features = conv_base.predict(np.array(X_valid), batch_size=BATCH_SIZE, verbose=1)\n",
        "#for layer in conv_base.layers:\n",
        "#    layer.trainable = False"
      ],
      "metadata": {
        "id": "xmaexq2We52r",
        "colab": {
          "base_uri": "https://localhost:8080/",
          "height": 254
        },
        "outputId": "33e8473a-c918-4bfd-c4d6-9bfec209687e"
      },
      "execution_count": null,
      "outputs": [
        {
          "output_type": "stream",
          "name": "stdout",
          "text": [
            "3750/3750 [==============================] - 1064s 284ms/step\n"
          ]
        },
        {
          "output_type": "error",
          "ename": "NameError",
          "evalue": "ignored",
          "traceback": [
            "\u001b[0;31m---------------------------------------------------------------------------\u001b[0m",
            "\u001b[0;31mNameError\u001b[0m                                 Traceback (most recent call last)",
            "\u001b[0;32m<ipython-input-23-b4a2a3e04025>\u001b[0m in \u001b[0;36m<module>\u001b[0;34m()\u001b[0m\n\u001b[1;32m      2\u001b[0m \u001b[0mtrain_features\u001b[0m \u001b[0;34m=\u001b[0m \u001b[0mconv_base\u001b[0m\u001b[0;34m.\u001b[0m\u001b[0mpredict\u001b[0m\u001b[0;34m(\u001b[0m\u001b[0mnp\u001b[0m\u001b[0;34m.\u001b[0m\u001b[0marray\u001b[0m\u001b[0;34m(\u001b[0m\u001b[0mX_train\u001b[0m\u001b[0;34m)\u001b[0m\u001b[0;34m,\u001b[0m \u001b[0mbatch_size\u001b[0m\u001b[0;34m=\u001b[0m\u001b[0mBATCH_SIZE\u001b[0m\u001b[0;34m,\u001b[0m \u001b[0mverbose\u001b[0m\u001b[0;34m=\u001b[0m\u001b[0;36m1\u001b[0m\u001b[0;34m)\u001b[0m\u001b[0;34m\u001b[0m\u001b[0;34m\u001b[0m\u001b[0m\n\u001b[1;32m      3\u001b[0m \u001b[0;31m#test_features = conv_base.predict(np.array(X_test), batch_size=BATCH_SIZE, verbose=1)\u001b[0m\u001b[0;34m\u001b[0m\u001b[0;34m\u001b[0m\u001b[0;34m\u001b[0m\u001b[0m\n\u001b[0;32m----> 4\u001b[0;31m \u001b[0mval_features\u001b[0m \u001b[0;34m=\u001b[0m \u001b[0mconv_base\u001b[0m\u001b[0;34m.\u001b[0m\u001b[0mpredict\u001b[0m\u001b[0;34m(\u001b[0m\u001b[0mnp\u001b[0m\u001b[0;34m.\u001b[0m\u001b[0marray\u001b[0m\u001b[0;34m(\u001b[0m\u001b[0mX_valid\u001b[0m\u001b[0;34m)\u001b[0m\u001b[0;34m,\u001b[0m \u001b[0mbatch_size\u001b[0m\u001b[0;34m=\u001b[0m\u001b[0mBATCH_SIZE\u001b[0m\u001b[0;34m,\u001b[0m \u001b[0mverbose\u001b[0m\u001b[0;34m=\u001b[0m\u001b[0;36m1\u001b[0m\u001b[0;34m)\u001b[0m\u001b[0;34m\u001b[0m\u001b[0;34m\u001b[0m\u001b[0m\n\u001b[0m\u001b[1;32m      5\u001b[0m \u001b[0;31m#for layer in conv_base.layers:\u001b[0m\u001b[0;34m\u001b[0m\u001b[0;34m\u001b[0m\u001b[0;34m\u001b[0m\u001b[0m\n\u001b[1;32m      6\u001b[0m \u001b[0;31m#    layer.trainable = False\u001b[0m\u001b[0;34m\u001b[0m\u001b[0;34m\u001b[0m\u001b[0;34m\u001b[0m\u001b[0m\n",
            "\u001b[0;31mNameError\u001b[0m: name 'X_valid' is not defined"
          ]
        }
      ]
    },
    {
      "cell_type": "code",
      "source": [
        "# 6.1 Saving the features so that they can be used for future\n",
        "np.savez(\"train_features\", train_features, train_label)\n",
        "np.savez(\"test_features\", test_features, y_testing)\n",
        "#np.savez(\"val_features\", val_features, valid_label)"
      ],
      "metadata": {
        "id": "wBI_FEbKfrc2"
      },
      "execution_count": null,
      "outputs": []
    },
    {
      "cell_type": "code",
      "source": [
        "# Current shape of features\n",
        "print(train_features.shape, \"\\n\",  test_features.shape, \"\\n\", val_features.shape)"
      ],
      "metadata": {
        "colab": {
          "base_uri": "https://localhost:8080/"
        },
        "id": "ZUVrn67_krVF",
        "outputId": "62edf61d-064b-4aab-a2b6-81eef92c346f"
      },
      "execution_count": null,
      "outputs": [
        {
          "output_type": "stream",
          "name": "stdout",
          "text": [
            "(48000, 1, 1, 512) \n",
            " (10000, 1, 1, 512) \n",
            " (12000, 1, 1, 512)\n"
          ]
        }
      ]
    },
    {
      "cell_type": "code",
      "source": [
        "# Flatten extracted features\n",
        "train_features_flat = np.reshape(train_features, (48000, 1*1*512))\n",
        "test_features_flat = np.reshape(test_features, (10000, 1*1*512))\n",
        "#val_features_flat = np.reshape(val_features, (12000, 1*1*512))"
      ],
      "metadata": {
        "id": "kpPIKZxdf5jA"
      },
      "execution_count": null,
      "outputs": []
    },
    {
      "cell_type": "code",
      "source": [
        "train_features_flat.shape"
      ],
      "metadata": {
        "colab": {
          "base_uri": "https://localhost:8080/"
        },
        "id": "zrX-5tkuvYBt",
        "outputId": "366abe36-4e77-45ee-9198-4a0bba00d1cf"
      },
      "execution_count": null,
      "outputs": [
        {
          "output_type": "execute_result",
          "data": {
            "text/plain": [
              "(48000, 512)"
            ]
          },
          "metadata": {},
          "execution_count": 62
        }
      ]
    },
    {
      "cell_type": "code",
      "source": [
        "model2 = tensorflow.keras.Sequential()\n",
        "model2.add(layers.Dense(512, activation='relu', input_dim=(1*1*512)))\n",
        "model2.add(layers.Dense(n_hidden_1, activation = 'ReLU'))\n",
        "model2.add(layers.Dense(10, activation='softmax'))\n",
        "\n",
        "\n",
        "model2.compile(loss='categorical_crossentropy',\n",
        "              optimizer='adam',\n",
        "              metrics=['accuracy'])\n",
        "\n",
        "history = model2.fit(train_features_flat, y_training,\n",
        "                    batch_size=batch_size,\n",
        "                    epochs=training_epochs,\n",
        "                    verbose=1,\n",
        "                    validation_data=(test_features_flat, y_testing))"
      ],
      "metadata": {
        "colab": {
          "base_uri": "https://localhost:8080/"
        },
        "id": "Z-jM9_BSC_q3",
        "outputId": "fc5e67bb-0040-446e-943e-5b16ce18e4c1"
      },
      "execution_count": null,
      "outputs": [
        {
          "output_type": "stream",
          "name": "stdout",
          "text": [
            "Epoch 1/15\n",
            "480/480 [==============================] - 6s 12ms/step - loss: 2.3918 - accuracy: 0.1085 - val_loss: 2.3258 - val_accuracy: 0.1090\n",
            "Epoch 2/15\n",
            "480/480 [==============================] - 5s 10ms/step - loss: 2.3044 - accuracy: 0.1142 - val_loss: 2.3060 - val_accuracy: 0.1297\n",
            "Epoch 3/15\n",
            "480/480 [==============================] - 5s 10ms/step - loss: 2.2797 - accuracy: 0.1227 - val_loss: 2.2812 - val_accuracy: 0.1124\n",
            "Epoch 4/15\n",
            "480/480 [==============================] - 5s 10ms/step - loss: 2.2679 - accuracy: 0.1262 - val_loss: 2.2571 - val_accuracy: 0.1360\n",
            "Epoch 5/15\n",
            "480/480 [==============================] - 5s 10ms/step - loss: 2.2605 - accuracy: 0.1307 - val_loss: 2.2563 - val_accuracy: 0.1346\n",
            "Epoch 6/15\n",
            "480/480 [==============================] - 5s 10ms/step - loss: 2.2551 - accuracy: 0.1345 - val_loss: 2.2459 - val_accuracy: 0.1294\n",
            "Epoch 7/15\n",
            "480/480 [==============================] - 5s 10ms/step - loss: 2.2495 - accuracy: 0.1378 - val_loss: 2.2497 - val_accuracy: 0.1443\n",
            "Epoch 8/15\n",
            "480/480 [==============================] - 5s 10ms/step - loss: 2.2471 - accuracy: 0.1399 - val_loss: 2.2460 - val_accuracy: 0.1346\n",
            "Epoch 9/15\n",
            "480/480 [==============================] - 5s 10ms/step - loss: 2.2439 - accuracy: 0.1437 - val_loss: 2.2418 - val_accuracy: 0.1374\n",
            "Epoch 10/15\n",
            "480/480 [==============================] - 5s 10ms/step - loss: 2.2384 - accuracy: 0.1443 - val_loss: 2.2325 - val_accuracy: 0.1562\n",
            "Epoch 11/15\n",
            "480/480 [==============================] - 5s 10ms/step - loss: 2.2334 - accuracy: 0.1499 - val_loss: 2.2286 - val_accuracy: 0.1524\n",
            "Epoch 12/15\n",
            "480/480 [==============================] - 5s 10ms/step - loss: 2.2335 - accuracy: 0.1485 - val_loss: 2.2233 - val_accuracy: 0.1474\n",
            "Epoch 13/15\n",
            "480/480 [==============================] - 5s 10ms/step - loss: 2.2272 - accuracy: 0.1535 - val_loss: 2.2172 - val_accuracy: 0.1542\n",
            "Epoch 14/15\n",
            "480/480 [==============================] - 5s 10ms/step - loss: 2.2263 - accuracy: 0.1556 - val_loss: 2.2243 - val_accuracy: 0.1377\n",
            "Epoch 15/15\n",
            "480/480 [==============================] - 5s 10ms/step - loss: 2.2201 - accuracy: 0.1609 - val_loss: 2.2156 - val_accuracy: 0.1774\n"
          ]
        }
      ]
    },
    {
      "cell_type": "code",
      "source": [
        "from tensorflow.keras import models\n",
        "from tensorflow.keras.models import Model\n",
        "from tensorflow.keras import layers\n",
        "from tensorflow.keras import optimizers\n",
        "from tensorflow.keras import callbacks\n",
        "from keras.layers.advanced_activations import LeakyReLU"
      ],
      "metadata": {
        "id": "A6aJGGe-jMAk"
      },
      "execution_count": null,
      "outputs": []
    },
    {
      "cell_type": "code",
      "source": [
        "# 7.0 Define the densely connected classifier followed by leakyrelu layer and finally dense layer for the number of classes\n",
        "NB_TRAIN_SAMPLES = train_features_flat.shape[0]\n",
        "NB_VALIDATION_SAMPLES = val_features_flat.shape[0]\n",
        "NB_EPOCHS = 100\n",
        "\n",
        "model = models.Sequential()\n",
        "model.add(layers.Dense(512, activation='relu', input_dim=(1*1*512)))\n",
        "model.add(layers.LeakyReLU(alpha=0.1))\n",
        "model.add(layers.Dense(num_classes, activation='softmax'))"
      ],
      "metadata": {
        "id": "pl-loDvWjQKj"
      },
      "execution_count": null,
      "outputs": []
    },
    {
      "cell_type": "code",
      "source": [
        "# Compile the model.\n",
        "model.compile(\n",
        "    loss='categorical_crossentropy',\n",
        "    optimizer=optimizers.Adam(),\n",
        "  # optimizer=optimizers.RMSprop(lr=2e-5),\n",
        "    metrics=['acc'])"
      ],
      "metadata": {
        "id": "zdTyClptjQDW"
      },
      "execution_count": null,
      "outputs": []
    },
    {
      "cell_type": "code",
      "source": [
        "# Incorporating reduced learning and early stopping for callback\n",
        "reduce_learning = callbacks.ReduceLROnPlateau(\n",
        "    monitor='val_loss', \n",
        "    factor=0.2,\n",
        "    patience=2,\n",
        "    verbose=1,\n",
        "    mode='auto',\n",
        "    epsilon=0.0001,\n",
        "    cooldown=2,\n",
        "    min_lr=0)\n",
        "\n",
        "eary_stopping = callbacks.EarlyStopping(\n",
        "    monitor='val_loss',\n",
        "    min_delta=0,\n",
        "    patience=7,\n",
        "    verbose=1,\n",
        "    mode='auto')\n",
        "\n",
        "callbacks = [reduce_learning, eary_stopping]"
      ],
      "metadata": {
        "colab": {
          "base_uri": "https://localhost:8080/"
        },
        "id": "eE7l9H3wjUMQ",
        "outputId": "e3167108-19b0-453e-b7cd-544a7aad793b"
      },
      "execution_count": null,
      "outputs": [
        {
          "output_type": "stream",
          "name": "stdout",
          "text": [
            "WARNING:tensorflow:`epsilon` argument is deprecated and will be removed, use `min_delta` instead.\n"
          ]
        }
      ]
    },
    {
      "cell_type": "code",
      "source": [
        "train_features_flat.shape, train_label.shape"
      ],
      "metadata": {
        "colab": {
          "base_uri": "https://localhost:8080/"
        },
        "id": "Z9XrqrOFudW9",
        "outputId": "330280b6-aa6c-4ede-9b9c-b0b0398cef35"
      },
      "execution_count": null,
      "outputs": [
        {
          "output_type": "execute_result",
          "data": {
            "text/plain": [
              "((48000, 512), (48000, 10))"
            ]
          },
          "metadata": {},
          "execution_count": 67
        }
      ]
    },
    {
      "cell_type": "code",
      "source": [
        "# Train the the model\n",
        "history = model.fit(\n",
        "    train_features_flat,\n",
        "    train_label,\n",
        "    epochs=NB_EPOCHS,\n",
        "    validation_data=(val_features_flat, valid_label),\n",
        "    callbacks=callbacks\n",
        ")"
      ],
      "metadata": {
        "colab": {
          "base_uri": "https://localhost:8080/"
        },
        "id": "zo3K2hLojZ-S",
        "outputId": "5f6a769b-f616-4ccc-f55e-c8a21fbcc98c"
      },
      "execution_count": null,
      "outputs": [
        {
          "output_type": "stream",
          "name": "stdout",
          "text": [
            "Epoch 1/100\n",
            "1500/1500 [==============================] - 11s 7ms/step - loss: 2.4073 - acc: 0.1098 - val_loss: 2.3700 - val_acc: 0.1296 - lr: 0.0010\n",
            "Epoch 2/100\n",
            "1500/1500 [==============================] - 8s 5ms/step - loss: 2.3124 - acc: 0.1191 - val_loss: 2.2771 - val_acc: 0.1193 - lr: 0.0010\n",
            "Epoch 3/100\n",
            "1500/1500 [==============================] - 9s 6ms/step - loss: 2.2767 - acc: 0.1230 - val_loss: 2.2716 - val_acc: 0.1330 - lr: 0.0010\n",
            "Epoch 4/100\n",
            "1500/1500 [==============================] - 9s 6ms/step - loss: 2.2637 - acc: 0.1294 - val_loss: 2.2517 - val_acc: 0.1463 - lr: 0.0010\n",
            "Epoch 5/100\n",
            "1500/1500 [==============================] - 9s 6ms/step - loss: 2.2579 - acc: 0.1334 - val_loss: 2.2498 - val_acc: 0.1461 - lr: 0.0010\n",
            "Epoch 6/100\n",
            "1500/1500 [==============================] - 9s 6ms/step - loss: 2.2538 - acc: 0.1398 - val_loss: 2.2462 - val_acc: 0.1374 - lr: 0.0010\n",
            "Epoch 7/100\n",
            "1500/1500 [==============================] - 8s 6ms/step - loss: 2.2507 - acc: 0.1417 - val_loss: 2.2376 - val_acc: 0.1473 - lr: 0.0010\n",
            "Epoch 8/100\n",
            "1500/1500 [==============================] - 8s 5ms/step - loss: 2.2462 - acc: 0.1427 - val_loss: 2.2378 - val_acc: 0.1479 - lr: 0.0010\n",
            "Epoch 9/100\n",
            "1500/1500 [==============================] - 8s 5ms/step - loss: 2.2415 - acc: 0.1450 - val_loss: 2.2354 - val_acc: 0.1417 - lr: 0.0010\n",
            "Epoch 10/100\n",
            "1500/1500 [==============================] - 8s 6ms/step - loss: 2.2390 - acc: 0.1472 - val_loss: 2.2335 - val_acc: 0.1634 - lr: 0.0010\n",
            "Epoch 11/100\n",
            "1500/1500 [==============================] - 8s 6ms/step - loss: 2.2383 - acc: 0.1478 - val_loss: 2.2312 - val_acc: 0.1461 - lr: 0.0010\n",
            "Epoch 12/100\n",
            "1500/1500 [==============================] - 8s 6ms/step - loss: 2.2356 - acc: 0.1480 - val_loss: 2.2444 - val_acc: 0.1277 - lr: 0.0010\n",
            "Epoch 13/100\n",
            "1500/1500 [==============================] - 8s 5ms/step - loss: 2.2341 - acc: 0.1487 - val_loss: 2.2282 - val_acc: 0.1525 - lr: 0.0010\n",
            "Epoch 14/100\n",
            "1500/1500 [==============================] - 8s 6ms/step - loss: 2.2317 - acc: 0.1505 - val_loss: 2.2280 - val_acc: 0.1436 - lr: 0.0010\n",
            "Epoch 15/100\n",
            "1500/1500 [==============================] - 8s 5ms/step - loss: 2.2308 - acc: 0.1515 - val_loss: 2.2234 - val_acc: 0.1501 - lr: 0.0010\n",
            "Epoch 16/100\n",
            "1500/1500 [==============================] - 8s 6ms/step - loss: 2.2303 - acc: 0.1502 - val_loss: 2.2289 - val_acc: 0.1482 - lr: 0.0010\n",
            "Epoch 17/100\n",
            "1500/1500 [==============================] - 8s 5ms/step - loss: 2.2288 - acc: 0.1514 - val_loss: 2.2208 - val_acc: 0.1493 - lr: 0.0010\n",
            "Epoch 18/100\n",
            "1500/1500 [==============================] - 8s 6ms/step - loss: 2.2278 - acc: 0.1520 - val_loss: 2.2196 - val_acc: 0.1537 - lr: 0.0010\n",
            "Epoch 19/100\n",
            "1500/1500 [==============================] - 8s 6ms/step - loss: 2.2268 - acc: 0.1510 - val_loss: 2.2266 - val_acc: 0.1472 - lr: 0.0010\n",
            "Epoch 20/100\n",
            "1500/1500 [==============================] - 8s 5ms/step - loss: 2.2266 - acc: 0.1520 - val_loss: 2.2193 - val_acc: 0.1545 - lr: 0.0010\n",
            "Epoch 21/100\n",
            "1500/1500 [==============================] - 8s 5ms/step - loss: 2.2251 - acc: 0.1522 - val_loss: 2.2183 - val_acc: 0.1474 - lr: 0.0010\n",
            "Epoch 22/100\n",
            "1500/1500 [==============================] - 8s 5ms/step - loss: 2.2253 - acc: 0.1533 - val_loss: 2.2221 - val_acc: 0.1452 - lr: 0.0010\n",
            "Epoch 23/100\n",
            "1500/1500 [==============================] - 8s 5ms/step - loss: 2.2254 - acc: 0.1530 - val_loss: 2.2159 - val_acc: 0.1590 - lr: 0.0010\n",
            "Epoch 24/100\n",
            "1500/1500 [==============================] - 8s 6ms/step - loss: 2.2236 - acc: 0.1532 - val_loss: 2.2202 - val_acc: 0.1509 - lr: 0.0010\n",
            "Epoch 25/100\n",
            "1499/1500 [============================>.] - ETA: 0s - loss: 2.2246 - acc: 0.1529\n",
            "Epoch 00025: ReduceLROnPlateau reducing learning rate to 0.00020000000949949026.\n",
            "1500/1500 [==============================] - 8s 5ms/step - loss: 2.2245 - acc: 0.1529 - val_loss: 2.2184 - val_acc: 0.1472 - lr: 0.0010\n",
            "Epoch 26/100\n",
            "1500/1500 [==============================] - 8s 6ms/step - loss: 2.2138 - acc: 0.1604 - val_loss: 2.2091 - val_acc: 0.1601 - lr: 2.0000e-04\n",
            "Epoch 27/100\n",
            "1500/1500 [==============================] - 8s 6ms/step - loss: 2.2116 - acc: 0.1618 - val_loss: 2.2072 - val_acc: 0.1609 - lr: 2.0000e-04\n",
            "Epoch 28/100\n",
            "1500/1500 [==============================] - 8s 5ms/step - loss: 2.2109 - acc: 0.1619 - val_loss: 2.2076 - val_acc: 0.1632 - lr: 2.0000e-04\n",
            "Epoch 29/100\n",
            "1491/1500 [============================>.] - ETA: 0s - loss: 2.2100 - acc: 0.1642\n",
            "Epoch 00029: ReduceLROnPlateau reducing learning rate to 4.0000001899898055e-05.\n",
            "1500/1500 [==============================] - 8s 6ms/step - loss: 2.2101 - acc: 0.1642 - val_loss: 2.2076 - val_acc: 0.1625 - lr: 2.0000e-04\n",
            "Epoch 30/100\n",
            "1500/1500 [==============================] - 8s 5ms/step - loss: 2.2075 - acc: 0.1646 - val_loss: 2.2036 - val_acc: 0.1628 - lr: 4.0000e-05\n",
            "Epoch 31/100\n",
            "1500/1500 [==============================] - 8s 5ms/step - loss: 2.2070 - acc: 0.1648 - val_loss: 2.2038 - val_acc: 0.1600 - lr: 4.0000e-05\n",
            "Epoch 32/100\n",
            "1500/1500 [==============================] - 8s 6ms/step - loss: 2.2066 - acc: 0.1655 - val_loss: 2.2029 - val_acc: 0.1645 - lr: 4.0000e-05\n",
            "Epoch 33/100\n",
            "1500/1500 [==============================] - 8s 6ms/step - loss: 2.2065 - acc: 0.1658 - val_loss: 2.2030 - val_acc: 0.1678 - lr: 4.0000e-05\n",
            "Epoch 34/100\n",
            "1500/1500 [==============================] - 8s 6ms/step - loss: 2.2065 - acc: 0.1656 - val_loss: 2.2027 - val_acc: 0.1662 - lr: 4.0000e-05\n",
            "Epoch 35/100\n",
            "1500/1500 [==============================] - 8s 6ms/step - loss: 2.2062 - acc: 0.1653 - val_loss: 2.2032 - val_acc: 0.1633 - lr: 4.0000e-05\n",
            "Epoch 36/100\n",
            "1491/1500 [============================>.] - ETA: 0s - loss: 2.2061 - acc: 0.1685\n",
            "Epoch 00036: ReduceLROnPlateau reducing learning rate to 8.000000525498762e-06.\n",
            "1500/1500 [==============================] - 8s 5ms/step - loss: 2.2061 - acc: 0.1686 - val_loss: 2.2041 - val_acc: 0.1733 - lr: 4.0000e-05\n",
            "Epoch 37/100\n",
            "1500/1500 [==============================] - 8s 6ms/step - loss: 2.2058 - acc: 0.1686 - val_loss: 2.2030 - val_acc: 0.1663 - lr: 8.0000e-06\n",
            "Epoch 38/100\n",
            "1500/1500 [==============================] - 9s 6ms/step - loss: 2.2057 - acc: 0.1690 - val_loss: 2.2030 - val_acc: 0.1670 - lr: 8.0000e-06\n",
            "Epoch 39/100\n",
            "1498/1500 [============================>.] - ETA: 0s - loss: 2.2056 - acc: 0.1681\n",
            "Epoch 00039: ReduceLROnPlateau reducing learning rate to 1.6000001778593287e-06.\n",
            "1500/1500 [==============================] - 8s 5ms/step - loss: 2.2056 - acc: 0.1680 - val_loss: 2.2028 - val_acc: 0.1673 - lr: 8.0000e-06\n",
            "Epoch 40/100\n",
            "1500/1500 [==============================] - 8s 5ms/step - loss: 2.2055 - acc: 0.1680 - val_loss: 2.2028 - val_acc: 0.1655 - lr: 1.6000e-06\n",
            "Epoch 41/100\n",
            "1500/1500 [==============================] - 8s 5ms/step - loss: 2.2055 - acc: 0.1672 - val_loss: 2.2028 - val_acc: 0.1647 - lr: 1.6000e-06\n",
            "Epoch 00041: early stopping\n"
          ]
        }
      ]
    },
    {
      "cell_type": "code",
      "source": [
        "# plot the loss and accuracy\n",
        "\n",
        "acc = history.history['acc']\n",
        "val_acc = history.history['val_acc']\n",
        "loss = history.history['loss']\n",
        "val_loss = history.history['val_loss']\n",
        "epochs = range(1, len(acc) + 1)\n",
        "\n",
        "plt.title('Training and validation accuracy')\n",
        "plt.plot(epochs, acc, 'red', label='Training acc')\n",
        "plt.plot(epochs, val_acc, 'blue', label='Validation acc')\n",
        "plt.legend()\n",
        "\n",
        "plt.figure()\n",
        "plt.title('Training and validation loss')\n",
        "plt.plot(epochs, loss, 'red', label='Training loss')\n",
        "plt.plot(epochs, val_loss, 'blue', label='Validation loss')\n",
        "\n",
        "plt.legend()\n",
        "\n",
        "plt.show()"
      ],
      "metadata": {
        "colab": {
          "base_uri": "https://localhost:8080/",
          "height": 545
        },
        "id": "iIoHnPDYjdW9",
        "outputId": "fe95760a-0f8f-4a65-ac7d-609166469518"
      },
      "execution_count": null,
      "outputs": [
        {
          "output_type": "display_data",
          "data": {
            "image/png": "[encoded data removed]",
            "text/plain": [
              "<Figure size 432x288 with 1 Axes>"
            ]
          },
          "metadata": {
            "needs_background": "light"
          }
        },
        {
          "output_type": "display_data",
          "data": {
            "image/png": "[encoded data removed]",
            "text/plain": [
              "<Figure size 432x288 with 1 Axes>"
            ]
          },
          "metadata": {
            "needs_background": "light"
          }
        }
      ]
    },
    {
      "cell_type": "code",
      "source": [
        "import random \n",
        "import numpy as np \n",
        "\n",
        "noise = [0.1, 0.2, 0.3]\n",
        "for k in noise:\n",
        "  print(k)\n",
        "  myNoiseXTesting = test_features_flat.copy()\n",
        "  noise_lv = k            #0.1, 0.2, 0.3    \n",
        "  img_size = 28*28 \n",
        "  for i in range(len(myNoiseXTesting)): \n",
        "    ran_seq = random.sample([n for n in range(img_size)], np.int(img_size*noise_lv)) \n",
        "    x = myNoiseXTesting[i].reshape(-1, img_size) \n",
        "    x[0, ran_seq]=255\n",
        "\n",
        "  loss, accuracy = model.evaluate(myNoiseXTesting, y_testing)\n",
        "  print('noise: ', k, ' accuracy: ', accuracy)"
      ],
      "metadata": {
        "colab": {
          "base_uri": "https://localhost:8080/",
          "height": 254
        },
        "id": "6t0yRj_LsYTF",
        "outputId": "7d237620-efcf-4288-c979-b27b77d6d4de"
      },
      "execution_count": null,
      "outputs": [
        {
          "output_type": "stream",
          "name": "stdout",
          "text": [
            "0.1\n"
          ]
        },
        {
          "output_type": "error",
          "ename": "ValueError",
          "evalue": "ignored",
          "traceback": [
            "\u001b[0;31m---------------------------------------------------------------------------\u001b[0m",
            "\u001b[0;31mValueError\u001b[0m                                Traceback (most recent call last)",
            "\u001b[0;32m<ipython-input-70-40c3cb0d643b>\u001b[0m in \u001b[0;36m<module>\u001b[0;34m()\u001b[0m\n\u001b[1;32m     10\u001b[0m   \u001b[0;32mfor\u001b[0m \u001b[0mi\u001b[0m \u001b[0;32min\u001b[0m \u001b[0mrange\u001b[0m\u001b[0;34m(\u001b[0m\u001b[0mlen\u001b[0m\u001b[0;34m(\u001b[0m\u001b[0mmyNoiseXTesting\u001b[0m\u001b[0;34m)\u001b[0m\u001b[0;34m)\u001b[0m\u001b[0;34m:\u001b[0m\u001b[0;34m\u001b[0m\u001b[0;34m\u001b[0m\u001b[0m\n\u001b[1;32m     11\u001b[0m     \u001b[0mran_seq\u001b[0m \u001b[0;34m=\u001b[0m \u001b[0mrandom\u001b[0m\u001b[0;34m.\u001b[0m\u001b[0msample\u001b[0m\u001b[0;34m(\u001b[0m\u001b[0;34m[\u001b[0m\u001b[0mn\u001b[0m \u001b[0;32mfor\u001b[0m \u001b[0mn\u001b[0m \u001b[0;32min\u001b[0m \u001b[0mrange\u001b[0m\u001b[0;34m(\u001b[0m\u001b[0mimg_size\u001b[0m\u001b[0;34m)\u001b[0m\u001b[0;34m]\u001b[0m\u001b[0;34m,\u001b[0m \u001b[0mnp\u001b[0m\u001b[0;34m.\u001b[0m\u001b[0mint\u001b[0m\u001b[0;34m(\u001b[0m\u001b[0mimg_size\u001b[0m\u001b[0;34m*\u001b[0m\u001b[0mnoise_lv\u001b[0m\u001b[0;34m)\u001b[0m\u001b[0;34m)\u001b[0m\u001b[0;34m\u001b[0m\u001b[0;34m\u001b[0m\u001b[0m\n\u001b[0;32m---> 12\u001b[0;31m     \u001b[0mx\u001b[0m \u001b[0;34m=\u001b[0m \u001b[0mmyNoiseXTesting\u001b[0m\u001b[0;34m[\u001b[0m\u001b[0mi\u001b[0m\u001b[0;34m]\u001b[0m\u001b[0;34m.\u001b[0m\u001b[0mreshape\u001b[0m\u001b[0;34m(\u001b[0m\u001b[0;34m-\u001b[0m\u001b[0;36m1\u001b[0m\u001b[0;34m,\u001b[0m \u001b[0mimg_size\u001b[0m\u001b[0;34m)\u001b[0m\u001b[0;34m\u001b[0m\u001b[0;34m\u001b[0m\u001b[0m\n\u001b[0m\u001b[1;32m     13\u001b[0m     \u001b[0mx\u001b[0m\u001b[0;34m[\u001b[0m\u001b[0;36m0\u001b[0m\u001b[0;34m,\u001b[0m \u001b[0mran_seq\u001b[0m\u001b[0;34m]\u001b[0m\u001b[0;34m=\u001b[0m\u001b[0;36m255\u001b[0m\u001b[0;34m\u001b[0m\u001b[0;34m\u001b[0m\u001b[0m\n\u001b[1;32m     14\u001b[0m \u001b[0;34m\u001b[0m\u001b[0m\n",
            "\u001b[0;31mValueError\u001b[0m: cannot reshape array of size 512 into shape (784)"
          ]
        }
      ]
    }
  ],
  "metadata": {
    "kernelspec": {
      "display_name": "Python 3",
      "language": "python",
      "name": "python3"
    },
    "language_info": {
      "codemirror_mode": {
        "name": "ipython",
        "version": 3
      },
      "file_extension": ".py",
      "mimetype": "text/x-python",
      "name": "python",
      "nbconvert_exporter": "python",
      "pygments_lexer": "ipython3",
      "version": "3.6.2"
    },
    "colab": {
      "name": "myTest_20211215_MNIST Hand Written Digits Classification With CNN.ipynb",
      "provenance": [],
      "include_colab_link": true
    }
  },
  "nbformat": 4,
  "nbformat_minor": 0
}